{
 "cells": [
  {
   "cell_type": "code",
   "execution_count": 1,
   "id": "0b829378",
   "metadata": {},
   "outputs": [],
   "source": [
    "import requests"
   ]
  },
  {
   "cell_type": "code",
   "execution_count": 14,
   "id": "0f8ec194",
   "metadata": {},
   "outputs": [],
   "source": [
    "url = 'http://localhost:9696/predict'"
   ]
  },
  {
   "cell_type": "code",
   "execution_count": 15,
   "id": "f832c2f6",
   "metadata": {},
   "outputs": [],
   "source": [
    "customer = {\"Gender\": 1.0,\n",
    " \"Age\": 35.0,\n",
    " \"Driving_License\": 1.0,\n",
    " \"Region_Code\": 47.0,\n",
    " \"Previously_Insured\": 0.0,\n",
    " \"Vehicle_Age\": 2.0,\n",
    " \"Vehicle_Damage\": 1.0,\n",
    " \"Annual_Premium\": 30798.0,\n",
    " \"Policy_Sales_Channel\": 152.0,\n",
    " \"Vintage\": 238.0}"
   ]
  },
  {
   "cell_type": "code",
   "execution_count": 20,
   "id": "6ae22071",
   "metadata": {},
   "outputs": [
    {
     "data": {
      "text/plain": [
       "{'Gender': 1.0,\n",
       " 'Age': 35.0,\n",
       " 'Driving_License': 1.0,\n",
       " 'Region_Code': 47.0,\n",
       " 'Previously_Insured': 0.0,\n",
       " 'Vehicle_Age': 2.0,\n",
       " 'Vehicle_Damage': 1.0,\n",
       " 'Annual_Premium': 30798.0,\n",
       " 'Policy_Sales_Channel': 152.0,\n",
       " 'Vintage': 238.0}"
      ]
     },
     "execution_count": 20,
     "metadata": {},
     "output_type": "execute_result"
    }
   ],
   "source": [
    "customer"
   ]
  },
  {
   "cell_type": "code",
   "execution_count": 22,
   "id": "2b0f2d62",
   "metadata": {},
   "outputs": [
    {
     "data": {
      "text/plain": [
       "{'Insurance': False, 'Insurance_probabililty': 0.47412751063230635}"
      ]
     },
     "execution_count": 22,
     "metadata": {},
     "output_type": "execute_result"
    }
   ],
   "source": [
    "response = requests.post(url, json=customer).json()\n",
    "response"
   ]
  },
  {
   "cell_type": "code",
   "execution_count": 23,
   "id": "169f3757",
   "metadata": {},
   "outputs": [
    {
     "name": "stdout",
     "output_type": "stream",
     "text": [
      "sending promo email to customer\n"
     ]
    }
   ],
   "source": [
    "if response['Insurance'] == False:\n",
    "    print('sending promo email to customer')"
   ]
  }
 ],
 "metadata": {
  "kernelspec": {
   "display_name": "Python 3 (ipykernel)",
   "language": "python",
   "name": "python3"
  },
  "language_info": {
   "codemirror_mode": {
    "name": "ipython",
    "version": 3
   },
   "file_extension": ".py",
   "mimetype": "text/x-python",
   "name": "python",
   "nbconvert_exporter": "python",
   "pygments_lexer": "ipython3",
   "version": "3.8.10"
  }
 },
 "nbformat": 4,
 "nbformat_minor": 5
}
